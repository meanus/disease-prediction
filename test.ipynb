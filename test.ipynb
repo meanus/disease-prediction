{
 "cells": [
  {
   "cell_type": "code",
   "execution_count": null,
   "id": "41076bbe",
   "metadata": {},
   "outputs": [
    {
     "data": {
      "text/html": [
       "<div>\n",
       "<style scoped>\n",
       "    .dataframe tbody tr th:only-of-type {\n",
       "        vertical-align: middle;\n",
       "    }\n",
       "\n",
       "    .dataframe tbody tr th {\n",
       "        vertical-align: top;\n",
       "    }\n",
       "\n",
       "    .dataframe thead th {\n",
       "        text-align: right;\n",
       "    }\n",
       "</style>\n",
       "<table border=\"1\" class=\"dataframe\">\n",
       "  <thead>\n",
       "    <tr style=\"text-align: right;\">\n",
       "      <th></th>\n",
       "      <th>Time</th>\n",
       "      <th>No. of Cases</th>\n",
       "      <th>Turbidity</th>\n",
       "    </tr>\n",
       "  </thead>\n",
       "  <tbody>\n",
       "    <tr>\n",
       "      <th>0</th>\n",
       "      <td>Saturday, December 31, 2022 12:00:00 A.M.</td>\n",
       "      <td>0.0</td>\n",
       "      <td>20</td>\n",
       "    </tr>\n",
       "    <tr>\n",
       "      <th>1</th>\n",
       "      <td>Saturday, December 31, 2022 3:00:00 A.M.</td>\n",
       "      <td>6.0</td>\n",
       "      <td>15</td>\n",
       "    </tr>\n",
       "    <tr>\n",
       "      <th>2</th>\n",
       "      <td>Saturday, December 31, 2022 6:00:00 A.M.</td>\n",
       "      <td>1.0</td>\n",
       "      <td>19</td>\n",
       "    </tr>\n",
       "    <tr>\n",
       "      <th>3</th>\n",
       "      <td>Saturday, December 31, 2022 9:00:00 A.M.</td>\n",
       "      <td>0.0</td>\n",
       "      <td>12</td>\n",
       "    </tr>\n",
       "    <tr>\n",
       "      <th>4</th>\n",
       "      <td>Saturday, December 31, 2022 12:00:00 P.M.</td>\n",
       "      <td>1.0</td>\n",
       "      <td>5</td>\n",
       "    </tr>\n",
       "    <tr>\n",
       "      <th>...</th>\n",
       "      <td>...</td>\n",
       "      <td>...</td>\n",
       "      <td>...</td>\n",
       "    </tr>\n",
       "    <tr>\n",
       "      <th>461</th>\n",
       "      <td>Wednesday, December 27, 2023</td>\n",
       "      <td>0.0</td>\n",
       "      <td>1</td>\n",
       "    </tr>\n",
       "    <tr>\n",
       "      <th>462</th>\n",
       "      <td>Thursday, December 28, 2023</td>\n",
       "      <td>0.0</td>\n",
       "      <td>3</td>\n",
       "    </tr>\n",
       "    <tr>\n",
       "      <th>463</th>\n",
       "      <td>Friday, December 29, 2023</td>\n",
       "      <td>0.0</td>\n",
       "      <td>2</td>\n",
       "    </tr>\n",
       "    <tr>\n",
       "      <th>464</th>\n",
       "      <td>Saturday, December 30, 2023</td>\n",
       "      <td>0.0</td>\n",
       "      <td>1</td>\n",
       "    </tr>\n",
       "    <tr>\n",
       "      <th>465</th>\n",
       "      <td>Sunday, December 31, 2023</td>\n",
       "      <td>0.0</td>\n",
       "      <td>0</td>\n",
       "    </tr>\n",
       "  </tbody>\n",
       "</table>\n",
       "<p>466 rows × 3 columns</p>\n",
       "</div>"
      ],
      "text/plain": [
       "                                          Time  No. of Cases  Turbidity\n",
       "0    Saturday, December 31, 2022 12:00:00 A.M.           0.0         20\n",
       "1     Saturday, December 31, 2022 3:00:00 A.M.           6.0         15\n",
       "2     Saturday, December 31, 2022 6:00:00 A.M.           1.0         19\n",
       "3     Saturday, December 31, 2022 9:00:00 A.M.           0.0         12\n",
       "4    Saturday, December 31, 2022 12:00:00 P.M.           1.0          5\n",
       "..                                         ...           ...        ...\n",
       "461               Wednesday, December 27, 2023           0.0          1\n",
       "462                Thursday, December 28, 2023           0.0          3\n",
       "463                  Friday, December 29, 2023           0.0          2\n",
       "464                Saturday, December 30, 2023           0.0          1\n",
       "465                  Sunday, December 31, 2023           0.0          0\n",
       "\n",
       "[466 rows x 3 columns]"
      ]
     },
     "execution_count": 30,
     "metadata": {},
     "output_type": "execute_result"
    }
   ],
   "source": [
    "import torch\n",
    "import torch.nn as nn\n",
    "import matplotlib.pyplot as plt # For data viz\n",
    "import pandas as pd\n",
    "import numpy as np\n",
    "\n",
    "data= pd.read_csv('aligned_output.csv')\n",
    "data"
   ]
  },
  {
   "cell_type": "code",
   "execution_count": 31,
   "id": "12088dae",
   "metadata": {},
   "outputs": [
    {
     "data": {
      "text/plain": [
       "device(type='cpu')"
      ]
     },
     "execution_count": 31,
     "metadata": {},
     "output_type": "execute_result"
    }
   ],
   "source": [
    "device = torch.device('cuda' if torch.cuda.is_available() else 'cpu')\n",
    "device"
   ]
  },
  {
   "cell_type": "code",
   "execution_count": null,
   "id": "c7dcce2f",
   "metadata": {},
   "outputs": [
    {
     "data": {
      "image/png": "[encoded data removed]",
      "text/plain": [
       "<Figure size 640x480 with 1 Axes>"
      ]
     },
     "metadata": {},
     "output_type": "display_data"
    }
   ],
   "source": [
    "data['Time']= pd.to_datetime(data['Time'])\n",
    "plt.plot(data['Time'], data['No. of Cases'])"
   ]
  },
  {
   "cell_type": "code",
   "execution_count": null,
   "id": "bd04ef6f",
   "metadata": {},
   "outputs": [
    {
     "data": {
      "text/html": [
       "<div>\n",
       "<style scoped>\n",
       "    .dataframe tbody tr th:only-of-type {\n",
       "        vertical-align: middle;\n",
       "    }\n",
       "\n",
       "    .dataframe tbody tr th {\n",
       "        vertical-align: top;\n",
       "    }\n",
       "\n",
       "    .dataframe thead th {\n",
       "        text-align: right;\n",
       "    }\n",
       "</style>\n",
       "<table border=\"1\" class=\"dataframe\">\n",
       "  <thead>\n",
       "    <tr style=\"text-align: right;\">\n",
       "      <th></th>\n",
       "      <th>No. of Cases</th>\n",
       "      <th>Turbidity</th>\n",
       "      <th>No. of Cases1</th>\n",
       "      <th>Turbidity1</th>\n",
       "      <th>No. of Cases2</th>\n",
       "      <th>Turbidity2</th>\n",
       "      <th>No. of Cases3</th>\n",
       "      <th>Turbidity3</th>\n",
       "      <th>No. of Cases4</th>\n",
       "      <th>Turbidity4</th>\n",
       "      <th>No. of Cases5</th>\n",
       "      <th>Turbidity5</th>\n",
       "      <th>No. of Cases6</th>\n",
       "      <th>Turbidity6</th>\n",
       "      <th>No. of Cases7</th>\n",
       "      <th>Turbidity7</th>\n",
       "    </tr>\n",
       "    <tr>\n",
       "      <th>Time</th>\n",
       "      <th></th>\n",
       "      <th></th>\n",
       "      <th></th>\n",
       "      <th></th>\n",
       "      <th></th>\n",
       "      <th></th>\n",
       "      <th></th>\n",
       "      <th></th>\n",
       "      <th></th>\n",
       "      <th></th>\n",
       "      <th></th>\n",
       "      <th></th>\n",
       "      <th></th>\n",
       "      <th></th>\n",
       "      <th></th>\n",
       "      <th></th>\n",
       "    </tr>\n",
       "  </thead>\n",
       "  <tbody>\n",
       "  </tbody>\n",
       "</table>\n",
       "</div>"
      ],
      "text/plain": [
       "Empty DataFrame\n",
       "Columns: [No. of Cases, Turbidity, No. of Cases1, Turbidity1, No. of Cases2, Turbidity2, No. of Cases3, Turbidity3, No. of Cases4, Turbidity4, No. of Cases5, Turbidity5, No. of Cases6, Turbidity6, No. of Cases7, Turbidity7]\n",
       "Index: []"
      ]
     },
     "execution_count": 33,
     "metadata": {},
     "output_type": "execute_result"
    }
   ],
   "source": [
    "from copy import deepcopy as dc \n",
    "\n",
    "def prepare_dataframe_for_lstm(df, n_steps):\n",
    "    df= dc(df)\n",
    "    \n",
    "    \n",
    "    df.set_index('Time', inplace=True)\n",
    "    \n",
    "    for i in range(1, n_steps+1):\n",
    "        df[f'No. of Cases{i}']= df['No. of Cases'].shift(i)\n",
    "        \n",
    "        \n",
    "        \n",
    "    df.dropna(inplace=True)\n",
    "    return df\n",
    "\n",
    "lookback= 7\n",
    "shifted_data= prepare_dataframe_for_lstm(data, lookback)\n",
    "shifted_data.head()"
   ]
  },
  {
   "cell_type": "code",
   "execution_count": 34,
   "id": "2bb15f9b",
   "metadata": {},
   "outputs": [
    {
     "data": {
      "text/plain": [
       "array([], shape=(0, 16), dtype=float64)"
      ]
     },
     "execution_count": 34,
     "metadata": {},
     "output_type": "execute_result"
    }
   ],
   "source": [
    "shifted_df_as_numpy= shifted_data.to_numpy()\n",
    "shifted_df_as_numpy\n"
   ]
  },
  {
   "cell_type": "code",
   "execution_count": 36,
   "id": "7b701482",
   "metadata": {},
   "outputs": [
    {
     "ename": "ValueError",
     "evalue": "Found array with 0 sample(s) (shape=(0, 16)) while a minimum of 1 is required by MinMaxScaler.",
     "output_type": "error",
     "traceback": [
      "\u001b[31m---------------------------------------------------------------------------\u001b[39m",
      "\u001b[31mValueError\u001b[39m                                Traceback (most recent call last)",
      "\u001b[36mCell\u001b[39m\u001b[36m \u001b[39m\u001b[32mIn[36]\u001b[39m\u001b[32m, line 3\u001b[39m\n\u001b[32m      1\u001b[39m \u001b[38;5;28;01mfrom\u001b[39;00m\u001b[38;5;250m \u001b[39m\u001b[34;01msklearn\u001b[39;00m\u001b[34;01m.\u001b[39;00m\u001b[34;01mpreprocessing\u001b[39;00m\u001b[38;5;250m \u001b[39m\u001b[38;5;28;01mimport\u001b[39;00m MinMaxScaler\n\u001b[32m      2\u001b[39m scaler= MinMaxScaler(feature_range=(-\u001b[32m1\u001b[39m, \u001b[32m1\u001b[39m))\n\u001b[32m----> \u001b[39m\u001b[32m3\u001b[39m shifted_df_as_numpy= \u001b[43mscaler\u001b[49m\u001b[43m.\u001b[49m\u001b[43mfit_transform\u001b[49m\u001b[43m(\u001b[49m\u001b[43mshifted_df_as_numpy\u001b[49m\u001b[43m)\u001b[49m\n\u001b[32m      4\u001b[39m shifted_df_as_numpy\n",
      "\u001b[36mFile \u001b[39m\u001b[32mc:\\Users\\MANAS KEDIA\\AppData\\Local\\Programs\\Python\\Python313\\Lib\\site-packages\\sklearn\\utils\\_set_output.py:316\u001b[39m, in \u001b[36m_wrap_method_output.<locals>.wrapped\u001b[39m\u001b[34m(self, X, *args, **kwargs)\u001b[39m\n\u001b[32m    314\u001b[39m \u001b[38;5;129m@wraps\u001b[39m(f)\n\u001b[32m    315\u001b[39m \u001b[38;5;28;01mdef\u001b[39;00m\u001b[38;5;250m \u001b[39m\u001b[34mwrapped\u001b[39m(\u001b[38;5;28mself\u001b[39m, X, *args, **kwargs):\n\u001b[32m--> \u001b[39m\u001b[32m316\u001b[39m     data_to_wrap = \u001b[43mf\u001b[49m\u001b[43m(\u001b[49m\u001b[38;5;28;43mself\u001b[39;49m\u001b[43m,\u001b[49m\u001b[43m \u001b[49m\u001b[43mX\u001b[49m\u001b[43m,\u001b[49m\u001b[43m \u001b[49m\u001b[43m*\u001b[49m\u001b[43margs\u001b[49m\u001b[43m,\u001b[49m\u001b[43m \u001b[49m\u001b[43m*\u001b[49m\u001b[43m*\u001b[49m\u001b[43mkwargs\u001b[49m\u001b[43m)\u001b[49m\n\u001b[32m    317\u001b[39m     \u001b[38;5;28;01mif\u001b[39;00m \u001b[38;5;28misinstance\u001b[39m(data_to_wrap, \u001b[38;5;28mtuple\u001b[39m):\n\u001b[32m    318\u001b[39m         \u001b[38;5;66;03m# only wrap the first output for cross decomposition\u001b[39;00m\n\u001b[32m    319\u001b[39m         return_tuple = (\n\u001b[32m    320\u001b[39m             _wrap_data_with_container(method, data_to_wrap[\u001b[32m0\u001b[39m], X, \u001b[38;5;28mself\u001b[39m),\n\u001b[32m    321\u001b[39m             *data_to_wrap[\u001b[32m1\u001b[39m:],\n\u001b[32m    322\u001b[39m         )\n",
      "\u001b[36mFile \u001b[39m\u001b[32mc:\\Users\\MANAS KEDIA\\AppData\\Local\\Programs\\Python\\Python313\\Lib\\site-packages\\sklearn\\base.py:894\u001b[39m, in \u001b[36mTransformerMixin.fit_transform\u001b[39m\u001b[34m(self, X, y, **fit_params)\u001b[39m\n\u001b[32m    879\u001b[39m         warnings.warn(\n\u001b[32m    880\u001b[39m             (\n\u001b[32m    881\u001b[39m                 \u001b[33mf\u001b[39m\u001b[33m\"\u001b[39m\u001b[33mThis object (\u001b[39m\u001b[38;5;132;01m{\u001b[39;00m\u001b[38;5;28mself\u001b[39m.\u001b[34m__class__\u001b[39m.\u001b[34m__name__\u001b[39m\u001b[38;5;132;01m}\u001b[39;00m\u001b[33m) has a `transform`\u001b[39m\u001b[33m\"\u001b[39m\n\u001b[32m   (...)\u001b[39m\u001b[32m    889\u001b[39m             \u001b[38;5;167;01mUserWarning\u001b[39;00m,\n\u001b[32m    890\u001b[39m         )\n\u001b[32m    892\u001b[39m \u001b[38;5;28;01mif\u001b[39;00m y \u001b[38;5;129;01mis\u001b[39;00m \u001b[38;5;28;01mNone\u001b[39;00m:\n\u001b[32m    893\u001b[39m     \u001b[38;5;66;03m# fit method of arity 1 (unsupervised transformation)\u001b[39;00m\n\u001b[32m--> \u001b[39m\u001b[32m894\u001b[39m     \u001b[38;5;28;01mreturn\u001b[39;00m \u001b[38;5;28;43mself\u001b[39;49m\u001b[43m.\u001b[49m\u001b[43mfit\u001b[49m\u001b[43m(\u001b[49m\u001b[43mX\u001b[49m\u001b[43m,\u001b[49m\u001b[43m \u001b[49m\u001b[43m*\u001b[49m\u001b[43m*\u001b[49m\u001b[43mfit_params\u001b[49m\u001b[43m)\u001b[49m.transform(X)\n\u001b[32m    895\u001b[39m \u001b[38;5;28;01melse\u001b[39;00m:\n\u001b[32m    896\u001b[39m     \u001b[38;5;66;03m# fit method of arity 2 (supervised transformation)\u001b[39;00m\n\u001b[32m    897\u001b[39m     \u001b[38;5;28;01mreturn\u001b[39;00m \u001b[38;5;28mself\u001b[39m.fit(X, y, **fit_params).transform(X)\n",
      "\u001b[36mFile \u001b[39m\u001b[32mc:\\Users\\MANAS KEDIA\\AppData\\Local\\Programs\\Python\\Python313\\Lib\\site-packages\\sklearn\\preprocessing\\_data.py:454\u001b[39m, in \u001b[36mMinMaxScaler.fit\u001b[39m\u001b[34m(self, X, y)\u001b[39m\n\u001b[32m    452\u001b[39m \u001b[38;5;66;03m# Reset internal state before fitting\u001b[39;00m\n\u001b[32m    453\u001b[39m \u001b[38;5;28mself\u001b[39m._reset()\n\u001b[32m--> \u001b[39m\u001b[32m454\u001b[39m \u001b[38;5;28;01mreturn\u001b[39;00m \u001b[38;5;28;43mself\u001b[39;49m\u001b[43m.\u001b[49m\u001b[43mpartial_fit\u001b[49m\u001b[43m(\u001b[49m\u001b[43mX\u001b[49m\u001b[43m,\u001b[49m\u001b[43m \u001b[49m\u001b[43my\u001b[49m\u001b[43m)\u001b[49m\n",
      "\u001b[36mFile \u001b[39m\u001b[32mc:\\Users\\MANAS KEDIA\\AppData\\Local\\Programs\\Python\\Python313\\Lib\\site-packages\\sklearn\\base.py:1365\u001b[39m, in \u001b[36m_fit_context.<locals>.decorator.<locals>.wrapper\u001b[39m\u001b[34m(estimator, *args, **kwargs)\u001b[39m\n\u001b[32m   1358\u001b[39m     estimator._validate_params()\n\u001b[32m   1360\u001b[39m \u001b[38;5;28;01mwith\u001b[39;00m config_context(\n\u001b[32m   1361\u001b[39m     skip_parameter_validation=(\n\u001b[32m   1362\u001b[39m         prefer_skip_nested_validation \u001b[38;5;129;01mor\u001b[39;00m global_skip_validation\n\u001b[32m   1363\u001b[39m     )\n\u001b[32m   1364\u001b[39m ):\n\u001b[32m-> \u001b[39m\u001b[32m1365\u001b[39m     \u001b[38;5;28;01mreturn\u001b[39;00m \u001b[43mfit_method\u001b[49m\u001b[43m(\u001b[49m\u001b[43mestimator\u001b[49m\u001b[43m,\u001b[49m\u001b[43m \u001b[49m\u001b[43m*\u001b[49m\u001b[43margs\u001b[49m\u001b[43m,\u001b[49m\u001b[43m \u001b[49m\u001b[43m*\u001b[49m\u001b[43m*\u001b[49m\u001b[43mkwargs\u001b[49m\u001b[43m)\u001b[49m\n",
      "\u001b[36mFile \u001b[39m\u001b[32mc:\\Users\\MANAS KEDIA\\AppData\\Local\\Programs\\Python\\Python313\\Lib\\site-packages\\sklearn\\preprocessing\\_data.py:494\u001b[39m, in \u001b[36mMinMaxScaler.partial_fit\u001b[39m\u001b[34m(self, X, y)\u001b[39m\n\u001b[32m    491\u001b[39m xp, _ = get_namespace(X)\n\u001b[32m    493\u001b[39m first_pass = \u001b[38;5;129;01mnot\u001b[39;00m \u001b[38;5;28mhasattr\u001b[39m(\u001b[38;5;28mself\u001b[39m, \u001b[33m\"\u001b[39m\u001b[33mn_samples_seen_\u001b[39m\u001b[33m\"\u001b[39m)\n\u001b[32m--> \u001b[39m\u001b[32m494\u001b[39m X = \u001b[43mvalidate_data\u001b[49m\u001b[43m(\u001b[49m\n\u001b[32m    495\u001b[39m \u001b[43m    \u001b[49m\u001b[38;5;28;43mself\u001b[39;49m\u001b[43m,\u001b[49m\n\u001b[32m    496\u001b[39m \u001b[43m    \u001b[49m\u001b[43mX\u001b[49m\u001b[43m,\u001b[49m\n\u001b[32m    497\u001b[39m \u001b[43m    \u001b[49m\u001b[43mreset\u001b[49m\u001b[43m=\u001b[49m\u001b[43mfirst_pass\u001b[49m\u001b[43m,\u001b[49m\n\u001b[32m    498\u001b[39m \u001b[43m    \u001b[49m\u001b[43mdtype\u001b[49m\u001b[43m=\u001b[49m\u001b[43m_array_api\u001b[49m\u001b[43m.\u001b[49m\u001b[43msupported_float_dtypes\u001b[49m\u001b[43m(\u001b[49m\u001b[43mxp\u001b[49m\u001b[43m)\u001b[49m\u001b[43m,\u001b[49m\n\u001b[32m    499\u001b[39m \u001b[43m    \u001b[49m\u001b[43mensure_all_finite\u001b[49m\u001b[43m=\u001b[49m\u001b[33;43m\"\u001b[39;49m\u001b[33;43mallow-nan\u001b[39;49m\u001b[33;43m\"\u001b[39;49m\u001b[43m,\u001b[49m\n\u001b[32m    500\u001b[39m \u001b[43m\u001b[49m\u001b[43m)\u001b[49m\n\u001b[32m    502\u001b[39m device_ = device(X)\n\u001b[32m    503\u001b[39m feature_range = (\n\u001b[32m    504\u001b[39m     xp.asarray(feature_range[\u001b[32m0\u001b[39m], dtype=X.dtype, device=device_),\n\u001b[32m    505\u001b[39m     xp.asarray(feature_range[\u001b[32m1\u001b[39m], dtype=X.dtype, device=device_),\n\u001b[32m    506\u001b[39m )\n",
      "\u001b[36mFile \u001b[39m\u001b[32mc:\\Users\\MANAS KEDIA\\AppData\\Local\\Programs\\Python\\Python313\\Lib\\site-packages\\sklearn\\utils\\validation.py:2954\u001b[39m, in \u001b[36mvalidate_data\u001b[39m\u001b[34m(_estimator, X, y, reset, validate_separately, skip_check_array, **check_params)\u001b[39m\n\u001b[32m   2952\u001b[39m         out = X, y\n\u001b[32m   2953\u001b[39m \u001b[38;5;28;01melif\u001b[39;00m \u001b[38;5;129;01mnot\u001b[39;00m no_val_X \u001b[38;5;129;01mand\u001b[39;00m no_val_y:\n\u001b[32m-> \u001b[39m\u001b[32m2954\u001b[39m     out = \u001b[43mcheck_array\u001b[49m\u001b[43m(\u001b[49m\u001b[43mX\u001b[49m\u001b[43m,\u001b[49m\u001b[43m \u001b[49m\u001b[43minput_name\u001b[49m\u001b[43m=\u001b[49m\u001b[33;43m\"\u001b[39;49m\u001b[33;43mX\u001b[39;49m\u001b[33;43m\"\u001b[39;49m\u001b[43m,\u001b[49m\u001b[43m \u001b[49m\u001b[43m*\u001b[49m\u001b[43m*\u001b[49m\u001b[43mcheck_params\u001b[49m\u001b[43m)\u001b[49m\n\u001b[32m   2955\u001b[39m \u001b[38;5;28;01melif\u001b[39;00m no_val_X \u001b[38;5;129;01mand\u001b[39;00m \u001b[38;5;129;01mnot\u001b[39;00m no_val_y:\n\u001b[32m   2956\u001b[39m     out = _check_y(y, **check_params)\n",
      "\u001b[36mFile \u001b[39m\u001b[32mc:\\Users\\MANAS KEDIA\\AppData\\Local\\Programs\\Python\\Python313\\Lib\\site-packages\\sklearn\\utils\\validation.py:1128\u001b[39m, in \u001b[36mcheck_array\u001b[39m\u001b[34m(array, accept_sparse, accept_large_sparse, dtype, order, copy, force_writeable, force_all_finite, ensure_all_finite, ensure_non_negative, ensure_2d, allow_nd, ensure_min_samples, ensure_min_features, estimator, input_name)\u001b[39m\n\u001b[32m   1126\u001b[39m     n_samples = _num_samples(array)\n\u001b[32m   1127\u001b[39m     \u001b[38;5;28;01mif\u001b[39;00m n_samples < ensure_min_samples:\n\u001b[32m-> \u001b[39m\u001b[32m1128\u001b[39m         \u001b[38;5;28;01mraise\u001b[39;00m \u001b[38;5;167;01mValueError\u001b[39;00m(\n\u001b[32m   1129\u001b[39m             \u001b[33m\"\u001b[39m\u001b[33mFound array with \u001b[39m\u001b[38;5;132;01m%d\u001b[39;00m\u001b[33m sample(s) (shape=\u001b[39m\u001b[38;5;132;01m%s\u001b[39;00m\u001b[33m) while a\u001b[39m\u001b[33m\"\u001b[39m\n\u001b[32m   1130\u001b[39m             \u001b[33m\"\u001b[39m\u001b[33m minimum of \u001b[39m\u001b[38;5;132;01m%d\u001b[39;00m\u001b[33m is required\u001b[39m\u001b[38;5;132;01m%s\u001b[39;00m\u001b[33m.\u001b[39m\u001b[33m\"\u001b[39m\n\u001b[32m   1131\u001b[39m             % (n_samples, array.shape, ensure_min_samples, context)\n\u001b[32m   1132\u001b[39m         )\n\u001b[32m   1134\u001b[39m \u001b[38;5;28;01mif\u001b[39;00m ensure_min_features > \u001b[32m0\u001b[39m \u001b[38;5;129;01mand\u001b[39;00m array.ndim == \u001b[32m2\u001b[39m:\n\u001b[32m   1135\u001b[39m     n_features = array.shape[\u001b[32m1\u001b[39m]\n",
      "\u001b[31mValueError\u001b[39m: Found array with 0 sample(s) (shape=(0, 16)) while a minimum of 1 is required by MinMaxScaler."
     ]
    }
   ],
   "source": [
    "from sklearn.preprocessing import MinMaxScaler\n",
    "scaler= MinMaxScaler(feature_range=(-1, 1))\n",
    "shifted_df_as_numpy= scaler.fit_transform(shifted_df_as_numpy)\n",
    "shifted_df_as_numpy"
   ]
  },
  {
   "cell_type": "code",
   "execution_count": 37,
   "id": "a71c30e7",
   "metadata": {},
   "outputs": [
    {
     "data": {
      "text/plain": [
       "((0, 15), (0,))"
      ]
     },
     "execution_count": 37,
     "metadata": {},
     "output_type": "execute_result"
    }
   ],
   "source": [
    "x= shifted_df_as_numpy[:, 1:]\n",
    "y= shifted_df_as_numpy[:, 0]\n",
    "\n",
    "x.shape, y.shape"
   ]
  },
  {
   "cell_type": "code",
   "execution_count": null,
   "id": "52baf4c2",
   "metadata": {},
   "outputs": [
    {
     "data": {
      "text/plain": [
       "array([[-0.2       , -1.        , -0.4       , ..., -0.92      ,\n",
       "        -0.6       , -0.2       ],\n",
       "       [-0.4       ,  1.        , -0.24      , ..., -0.2       ,\n",
       "        -0.6       , -0.28      ],\n",
       "       [-0.24      , -0.66666667, -0.52      , ..., -0.28      ,\n",
       "        -0.2       , -0.2       ],\n",
       "       ...,\n",
       "       [-0.92      , -1.        , -0.92      , ..., -0.88      ,\n",
       "        -1.        , -0.92      ],\n",
       "       [-0.92      , -1.        , -0.88      , ..., -0.92      ,\n",
       "        -1.        , -0.96      ],\n",
       "       [-0.88      , -1.        , -0.88      , ..., -0.96      ,\n",
       "        -1.        , -1.        ]])"
      ]
     },
     "execution_count": 17,
     "metadata": {},
     "output_type": "execute_result"
    }
   ],
   "source": [
    "x= dc(np.flip(x, axis=1))\n",
    "x"
   ]
  },
  {
   "cell_type": "code",
   "execution_count": null,
   "id": "94fbe658",
   "metadata": {},
   "outputs": [
    {
     "data": {
      "text/plain": [
       "420"
      ]
     },
     "execution_count": 18,
     "metadata": {},
     "output_type": "execute_result"
    }
   ],
   "source": [
    "split= int(0.95 * len(x))\n",
    "split"
   ]
  },
  {
   "cell_type": "code",
   "execution_count": 38,
   "id": "8c1852b9",
   "metadata": {},
   "outputs": [
    {
     "data": {
      "text/plain": [
       "((0, 15), (0,), (0, 15), (0,))"
      ]
     },
     "execution_count": 38,
     "metadata": {},
     "output_type": "execute_result"
    }
   ],
   "source": [
    "x_train= x[:split]\n",
    "x_test= x[split:]\n",
    "y_train= y[:split]\n",
    "y_test= y[split:]\n",
    "x_train.shape, y_train.shape, x_test.shape, y_test.shape"
   ]
  },
  {
   "cell_type": "code",
   "execution_count": 39,
   "id": "85b9f05c",
   "metadata": {},
   "outputs": [
    {
     "data": {
      "text/plain": [
       "((0, 7, 1), (0, 7, 1), (0, 1), (0, 1))"
      ]
     },
     "execution_count": 39,
     "metadata": {},
     "output_type": "execute_result"
    }
   ],
   "source": [
    "X_train = x_train.reshape((-1, lookback, 1))\n",
    "X_test = x_test.reshape((-1, lookback, 1))\n",
    "\n",
    "y_train = y_train.reshape((-1, 1))\n",
    "y_test = y_test.reshape((-1, 1))\n",
    "X_train.shape, X_test.shape, y_train. shape, y_test.shape"
   ]
  },
  {
   "cell_type": "code",
   "execution_count": null,
   "id": "2cb938d6",
   "metadata": {},
   "outputs": [
    {
     "data": {
      "text/plain": [
       "(torch.Size([420, 7, 1]),\n",
       " torch.Size([23, 7, 1]),\n",
       " torch.Size([420, 1]),\n",
       " torch.Size([23, 1]))"
      ]
     },
     "execution_count": 116,
     "metadata": {},
     "output_type": "execute_result"
    }
   ],
   "source": [
    "X_train = torch.tensor(X_train).float()\n",
    "y_train = torch.tensor(y_train).float()\n",
    "X_test= torch.tensor(X_test).float()\n",
    "y_test =torch.tensor(y_test).float()\n",
    "X_train.shape, X_test.shape, y_train. shape, y_test.shape"
   ]
  },
  {
   "cell_type": "code",
   "execution_count": null,
   "id": "02e464cd",
   "metadata": {},
   "outputs": [],
   "source": [
    "from torch.utils.data import Dataset \n",
    "\n",
    "class TimeSeriesDataset(Dataset):\n",
    "    def __init__(self, x, y):\n",
    "        self.x= x\n",
    "        self.y= y\n",
    "        \n",
    "    def __len__(self):\n",
    "        return len(self.x)\n",
    "    \n",
    "    def __getitem__(self, idx):\n",
    "        return self.x[idx], self.y[idx]\n",
    "\n",
    "train_ds= TimeSeriesDataset(X_train, y_train)\n",
    "test_ds= TimeSeriesDataset(X_test, y_test)"
   ]
  },
  {
   "cell_type": "code",
   "execution_count": null,
   "id": "fb6dd13e",
   "metadata": {},
   "outputs": [
    {
     "data": {
      "text/plain": [
       "<__main__.TimeSeriesDataset at 0x274eca0b230>"
      ]
     },
     "execution_count": 118,
     "metadata": {},
     "output_type": "execute_result"
    }
   ],
   "source": [
    "train_ds"
   ]
  },
  {
   "cell_type": "code",
   "execution_count": null,
   "id": "bb3699ab",
   "metadata": {},
   "outputs": [],
   "source": [
    "from torch.utils.data import DataLoader\n",
    "\n",
    "batch_size= 16\n",
    "\n",
    "train_loader= DataLoader(train_ds, batch_size=batch_size, shuffle=True)\n",
    "test_loader= DataLoader(test_ds, batch_size=batch_size, shuffle=False)"
   ]
  },
  {
   "cell_type": "code",
   "execution_count": null,
   "id": "4c5c65db",
   "metadata": {},
   "outputs": [
    {
     "name": "stdout",
     "output_type": "stream",
     "text": [
      "torch.Size([16, 7, 1]) torch.Size([16, 1])\n"
     ]
    }
   ],
   "source": [
    "for _, batch in enumerate(train_loader):\n",
    "    x_batch, y_batch= batch[0].to(device), batch[1].to(device)\n",
    "    print(x_batch.shape, y_batch.shape)\n",
    "    break"
   ]
  },
  {
   "cell_type": "code",
   "execution_count": null,
   "id": "f26274a6",
   "metadata": {},
   "outputs": [
    {
     "name": "stdout",
     "output_type": "stream",
     "text": [
      "LSTM(\n",
      "  (lstm): LSTM(2, 4, batch_first=True)\n",
      "  (fc): Linear(in_features=4, out_features=2, bias=True)\n",
      ")\n"
     ]
    }
   ],
   "source": [
    "class LSTM(nn.Module):\n",
    "    def __init__(self, input_size, hidden_size, num_stacked_layers):\n",
    "        super().__init__()\n",
    "        self.hidden_size = hidden_size\n",
    "        self.num_stacked_layers = num_stacked_layers\n",
    "        self.lstm = nn. LSTM(input_size, hidden_size, num_stacked_layers,\n",
    "        batch_first=True)\n",
    "        self.fc = nn.Linear(hidden_size, 1)\n",
    "        \n",
    "    def forward(self, x):\n",
    "        batch_size = x.size(0)\n",
    "        h0 = torch.zeros(self.num_stacked_layers, batch_size, self.hidden_size).to(device)\n",
    "        c0 = torch.zeros(self.num_stacked_layers, batch_size, self.hidden_size).to(device)\n",
    "        out, _ = self.lstm(x, (h0, c0))\n",
    "        out = self.fc(out[:, -1, :])\n",
    "        return out\n",
    "    \n",
    "model = LSTM(1,4,1).to(device)\n",
    "model   "
   ]
  },
  {
   "cell_type": "code",
   "execution_count": null,
   "id": "3190a090",
   "metadata": {},
   "outputs": [
    {
     "name": "stdout",
     "output_type": "stream",
     "text": [
      "\n"
     ]
    }
   ],
   "source": [
    "def train_one_epoch():\n",
    "    model.train (True)\n",
    "    print('Epoch: {epoch + 1}')\n",
    "    running_loss= 0.0\n",
    "    \n",
    "    for batch_index, batch in enumerate(train_loader):\n",
    "        x_batch, y_batch= batch[0].to(device), batch [1].to(device)\n",
    "        \n",
    "        output = model(x_batch)\n",
    "        loss = loss_function(output, y_batch)\n",
    "        running_loss += loss.item()\n",
    "        \n",
    "        optimizer.zero_grad()\n",
    "        loss.backward() \n",
    "        optimizer.step()\n",
    "        \n",
    "        if batch_index % 10 == 9: # print every 100 batches\n",
    "            avg_loss_across_batches= running_loss / 100\n",
    "            print('Batch {0}, Loss: {1:.3f}'.format(batch_index+1,avg_loss_across_batches))\n",
    "            running_loss = 0.0\n",
    "print()"
   ]
  },
  {
   "cell_type": "code",
   "execution_count": null,
   "id": "010b6f77",
   "metadata": {},
   "outputs": [],
   "source": [
    "def validate_one_epoch():\n",
    "    model.train (False)\n",
    "    running_loss= 0.0\n",
    "    for batch_index, batch in enumerate(test_loader):\n",
    "        x_batch, y_batch=batch[0].to(device), batch [1].to(device)\n",
    "        with torch.no_grad():\n",
    "            output= model(x_batch)\n",
    "            loss= loss_function(output, y_batch)\n",
    "            running_loss += loss\n",
    "    avg_loss_across_batches = running_loss / len(test_loader)\n",
    "    print('Val Loss: {0:.3f}'.format(avg_loss_across_batches))\n",
    "    print('******************************')\n",
    "    print()"
   ]
  },
  {
   "cell_type": "code",
   "execution_count": null,
   "id": "c8633d8d",
   "metadata": {},
   "outputs": [
    {
     "name": "stdout",
     "output_type": "stream",
     "text": [
      "Epoch: {epoch + 1}\n",
      "Batch 10, Loss: 0.022\n",
      "Batch 20, Loss: 0.020\n",
      "Val Loss: 0.164\n",
      "******************************\n",
      "\n",
      "Epoch: {epoch + 1}\n",
      "Batch 10, Loss: 0.016\n",
      "Batch 20, Loss: 0.015\n",
      "Val Loss: 0.091\n",
      "******************************\n",
      "\n",
      "Epoch: {epoch + 1}\n",
      "Batch 10, Loss: 0.014\n",
      "Batch 20, Loss: 0.011\n",
      "Val Loss: 0.040\n",
      "******************************\n",
      "\n",
      "Epoch: {epoch + 1}\n",
      "Batch 10, Loss: 0.011\n",
      "Batch 20, Loss: 0.008\n",
      "Val Loss: 0.017\n",
      "******************************\n",
      "\n",
      "Epoch: {epoch + 1}\n",
      "Batch 10, Loss: 0.008\n",
      "Batch 20, Loss: 0.010\n",
      "Val Loss: 0.012\n",
      "******************************\n",
      "\n",
      "Epoch: {epoch + 1}\n",
      "Batch 10, Loss: 0.010\n",
      "Batch 20, Loss: 0.010\n",
      "Val Loss: 0.011\n",
      "******************************\n",
      "\n",
      "Epoch: {epoch + 1}\n",
      "Batch 10, Loss: 0.008\n",
      "Batch 20, Loss: 0.013\n",
      "Val Loss: 0.010\n",
      "******************************\n",
      "\n",
      "Epoch: {epoch + 1}\n",
      "Batch 10, Loss: 0.009\n",
      "Batch 20, Loss: 0.011\n",
      "Val Loss: 0.011\n",
      "******************************\n",
      "\n",
      "Epoch: {epoch + 1}\n",
      "Batch 10, Loss: 0.009\n",
      "Batch 20, Loss: 0.008\n",
      "Val Loss: 0.009\n",
      "******************************\n",
      "\n",
      "Epoch: {epoch + 1}\n",
      "Batch 10, Loss: 0.008\n",
      "Batch 20, Loss: 0.009\n",
      "Val Loss: 0.011\n",
      "******************************\n",
      "\n",
      "Epoch: {epoch + 1}\n",
      "Batch 10, Loss: 0.007\n",
      "Batch 20, Loss: 0.012\n",
      "Val Loss: 0.009\n",
      "******************************\n",
      "\n",
      "Epoch: {epoch + 1}\n",
      "Batch 10, Loss: 0.007\n",
      "Batch 20, Loss: 0.007\n",
      "Val Loss: 0.007\n",
      "******************************\n",
      "\n",
      "Epoch: {epoch + 1}\n",
      "Batch 10, Loss: 0.009\n",
      "Batch 20, Loss: 0.008\n",
      "Val Loss: 0.008\n",
      "******************************\n",
      "\n",
      "Epoch: {epoch + 1}\n",
      "Batch 10, Loss: 0.007\n",
      "Batch 20, Loss: 0.009\n",
      "Val Loss: 0.006\n",
      "******************************\n",
      "\n",
      "Epoch: {epoch + 1}\n",
      "Batch 10, Loss: 0.008\n",
      "Batch 20, Loss: 0.010\n",
      "Val Loss: 0.006\n",
      "******************************\n",
      "\n",
      "Epoch: {epoch + 1}\n",
      "Batch 10, Loss: 0.009\n",
      "Batch 20, Loss: 0.008\n",
      "Val Loss: 0.004\n",
      "******************************\n",
      "\n",
      "Epoch: {epoch + 1}\n",
      "Batch 10, Loss: 0.007\n",
      "Batch 20, Loss: 0.009\n",
      "Val Loss: 0.004\n",
      "******************************\n",
      "\n",
      "Epoch: {epoch + 1}\n",
      "Batch 10, Loss: 0.008\n",
      "Batch 20, Loss: 0.006\n",
      "Val Loss: 0.002\n",
      "******************************\n",
      "\n",
      "Epoch: {epoch + 1}\n",
      "Batch 10, Loss: 0.003\n",
      "Batch 20, Loss: 0.007\n",
      "Val Loss: 0.004\n",
      "******************************\n",
      "\n",
      "Epoch: {epoch + 1}\n",
      "Batch 10, Loss: 0.008\n",
      "Batch 20, Loss: 0.006\n",
      "Val Loss: 0.003\n",
      "******************************\n",
      "\n",
      "Epoch: {epoch + 1}\n",
      "Batch 10, Loss: 0.009\n",
      "Batch 20, Loss: 0.004\n",
      "Val Loss: 0.002\n",
      "******************************\n",
      "\n",
      "Epoch: {epoch + 1}\n",
      "Batch 10, Loss: 0.005\n",
      "Batch 20, Loss: 0.007\n",
      "Val Loss: 0.001\n",
      "******************************\n",
      "\n",
      "Epoch: {epoch + 1}\n",
      "Batch 10, Loss: 0.004\n",
      "Batch 20, Loss: 0.006\n",
      "Val Loss: 0.002\n",
      "******************************\n",
      "\n",
      "Epoch: {epoch + 1}\n",
      "Batch 10, Loss: 0.008\n",
      "Batch 20, Loss: 0.004\n",
      "Val Loss: 0.000\n",
      "******************************\n",
      "\n",
      "Epoch: {epoch + 1}\n",
      "Batch 10, Loss: 0.008\n",
      "Batch 20, Loss: 0.004\n",
      "Val Loss: 0.001\n",
      "******************************\n",
      "\n",
      "Epoch: {epoch + 1}\n",
      "Batch 10, Loss: 0.005\n",
      "Batch 20, Loss: 0.007\n",
      "Val Loss: 0.001\n",
      "******************************\n",
      "\n",
      "Epoch: {epoch + 1}\n",
      "Batch 10, Loss: 0.004\n",
      "Batch 20, Loss: 0.005\n",
      "Val Loss: 0.002\n",
      "******************************\n",
      "\n",
      "Epoch: {epoch + 1}\n",
      "Batch 10, Loss: 0.006\n",
      "Batch 20, Loss: 0.004\n",
      "Val Loss: 0.000\n",
      "******************************\n",
      "\n",
      "Epoch: {epoch + 1}\n",
      "Batch 10, Loss: 0.006\n",
      "Batch 20, Loss: 0.008\n",
      "Val Loss: 0.000\n",
      "******************************\n",
      "\n",
      "Epoch: {epoch + 1}\n",
      "Batch 10, Loss: 0.005\n",
      "Batch 20, Loss: 0.008\n",
      "Val Loss: 0.000\n",
      "******************************\n",
      "\n",
      "Epoch: {epoch + 1}\n",
      "Batch 10, Loss: 0.006\n",
      "Batch 20, Loss: 0.007\n",
      "Val Loss: 0.001\n",
      "******************************\n",
      "\n",
      "Epoch: {epoch + 1}\n",
      "Batch 10, Loss: 0.005\n",
      "Batch 20, Loss: 0.006\n",
      "Val Loss: 0.001\n",
      "******************************\n",
      "\n",
      "Epoch: {epoch + 1}\n",
      "Batch 10, Loss: 0.005\n",
      "Batch 20, Loss: 0.006\n",
      "Val Loss: 0.001\n",
      "******************************\n",
      "\n",
      "Epoch: {epoch + 1}\n",
      "Batch 10, Loss: 0.005\n",
      "Batch 20, Loss: 0.007\n",
      "Val Loss: 0.001\n",
      "******************************\n",
      "\n",
      "Epoch: {epoch + 1}\n",
      "Batch 10, Loss: 0.005\n",
      "Batch 20, Loss: 0.006\n",
      "Val Loss: 0.001\n",
      "******************************\n",
      "\n",
      "Epoch: {epoch + 1}\n",
      "Batch 10, Loss: 0.005\n",
      "Batch 20, Loss: 0.006\n",
      "Val Loss: 0.001\n",
      "******************************\n",
      "\n",
      "Epoch: {epoch + 1}\n",
      "Batch 10, Loss: 0.006\n",
      "Batch 20, Loss: 0.005\n",
      "Val Loss: 0.000\n",
      "******************************\n",
      "\n",
      "Epoch: {epoch + 1}\n",
      "Batch 10, Loss: 0.007\n",
      "Batch 20, Loss: 0.003\n",
      "Val Loss: 0.000\n",
      "******************************\n",
      "\n",
      "Epoch: {epoch + 1}\n",
      "Batch 10, Loss: 0.007\n",
      "Batch 20, Loss: 0.003\n",
      "Val Loss: 0.000\n",
      "******************************\n",
      "\n",
      "Epoch: {epoch + 1}\n",
      "Batch 10, Loss: 0.008\n",
      "Batch 20, Loss: 0.005\n",
      "Val Loss: 0.000\n",
      "******************************\n",
      "\n"
     ]
    }
   ],
   "source": [
    "learning_rate=0.001\n",
    "num_epochs = 40\n",
    "loss_function = nn.MSELoss()\n",
    "optimizer = torch.optim. Adam (model.parameters(), lr=learning_rate)\n",
    "\n",
    "for epoch in range(num_epochs):\n",
    "    train_one_epoch()\n",
    "    validate_one_epoch()"
   ]
  },
  {
   "cell_type": "code",
   "execution_count": null,
   "id": "7573bb38",
   "metadata": {},
   "outputs": [
    {
     "ename": "AttributeError",
     "evalue": "'numpy.ndarray' object has no attribute 'to'",
     "output_type": "error",
     "traceback": [
      "\u001b[31m---------------------------------------------------------------------------\u001b[39m",
      "\u001b[31mAttributeError\u001b[39m                            Traceback (most recent call last)",
      "\u001b[36mCell\u001b[39m\u001b[36m \u001b[39m\u001b[32mIn[29]\u001b[39m\u001b[32m, line 8\u001b[39m\n\u001b[32m      4\u001b[39m model.eval()\n\u001b[32m      6\u001b[39m \u001b[38;5;28;01mwith\u001b[39;00m torch.no_grad():\n\u001b[32m      7\u001b[39m     \u001b[38;5;66;03m# Make predictions on the training data to see how well it learned\u001b[39;00m\n\u001b[32m----> \u001b[39m\u001b[32m8\u001b[39m     predicted = model(\u001b[43mX_train\u001b[49m\u001b[43m.\u001b[49m\u001b[43mto\u001b[49m(device)).to(\u001b[33m'\u001b[39m\u001b[33mcpu\u001b[39m\u001b[33m'\u001b[39m).numpy()\n\u001b[32m     10\u001b[39m \u001b[38;5;66;03m# Plot the actual vs predicted values for 'No. of Cases'\u001b[39;00m\n\u001b[32m     11\u001b[39m plt.plot(y_train[:, \u001b[32m0\u001b[39m], label=\u001b[33m'\u001b[39m\u001b[33mActual Cases\u001b[39m\u001b[33m'\u001b[39m)\n",
      "\u001b[31mAttributeError\u001b[39m: 'numpy.ndarray' object has no attribute 'to'"
     ]
    }
   ],
   "source": [
    "# CORRECTED CELL 19 (Plotting Predictions)\n",
    "\n",
    "# Put model in evaluation mode\n",
    "model.eval()\n",
    "\n",
    "with torch.no_grad():\n",
    "    # Make predictions on the training data to see how well it learned\n",
    "    predicted = model(X_train.to(device)).to('cpu').numpy()\n",
    "\n",
    "# Plot the actual vs predicted values for 'No. of Cases'\n",
    "plt.plot(y_train[:, 0], label='Actual Cases')\n",
    "plt.plot(predicted[:, 0], label='Predicted Cases')\n",
    "plt.title('Training Data: No. of Cases')\n",
    "plt.xlabel('Time Step')\n",
    "plt.ylabel('Scaled Value')\n",
    "plt.legend()\n",
    "plt.show()\n",
    "\n",
    "# Plot the actual vs predicted values for 'Turbidity'\n",
    "plt.plot(y_train[:, 1], label='Actual Turbidity')\n",
    "plt.plot(predicted[:, 1], label='Predicted Turbidity')\n",
    "plt.title('Training Data: Turbidity')\n",
    "plt.xlabel('Time Step')\n",
    "plt.ylabel('Scaled Value')\n",
    "plt.legend()\n",
    "plt.show()"
   ]
  },
  {
   "cell_type": "code",
   "execution_count": null,
   "id": "511a5114",
   "metadata": {},
   "outputs": [],
   "source": []
  }
 ],
 "metadata": {
  "kernelspec": {
   "display_name": "Python 3",
   "language": "python",
   "name": "python3"
  },
  "language_info": {
   "codemirror_mode": {
    "name": "ipython",
    "version": 3
   },
   "file_extension": ".py",
   "mimetype": "text/x-python",
   "name": "python",
   "nbconvert_exporter": "python",
   "pygments_lexer": "ipython3",
   "version": "3.13.2"
  }
 },
 "nbformat": 4,
 "nbformat_minor": 5
}
